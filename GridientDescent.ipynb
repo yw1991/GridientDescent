{
 "cells": [
  {
   "cell_type": "code",
   "execution_count": 60,
   "metadata": {},
   "outputs": [
    {
     "name": "stdout",
     "output_type": "stream",
     "text": [
      "   distance  accuracy\n",
      "0  0.314379 -0.707727\n",
      "1  1.693777 -1.586669\n",
      "2 -0.059695 -0.176699\n",
      "3 -0.574047  0.372640\n",
      "4  1.343083 -1.934584\n"
     ]
    }
   ],
   "source": [
    "import matplotlib.pyplot as plt\n",
    "import numpy as np\n",
    "import pandas as pd\n",
    "\n",
    "\n",
    "#load数据集\n",
    "pga = pd.read_csv('pga.csv')\n",
    "pga.head()\n",
    "pga.distance=(pga.distance - pga.distance.mean())/ pga.distance.std()#标准化\n",
    "pga.accuracy=(pga.accuracy - pga.accuracy.mean())/ pga.accuracy.std()\n",
    "print (pga.head())"
   ]
  },
  {
   "cell_type": "code",
   "execution_count": 61,
   "metadata": {},
   "outputs": [
    {
     "data": {
      "image/png": "[encoded data removed]",
      "text/plain": [
       "<Figure size 432x288 with 1 Axes>"
      ]
     },
     "metadata": {},
     "output_type": "display_data"
    }
   ],
   "source": [
    "# Data preprocessing\n",
    "# Normalize the data\n",
    "pga['distance']=(pga['distance']-pga['distance'].mean())/pga['distance'].std()\n",
    "pga['accuracy']=(pga['accuracy']-pga['accuracy'].mean())/pga['accuracy'].std()\n",
    "\n",
    "%matplotlib inline\n",
    "import matplotlib.pyplot as plt\n",
    "\n",
    "plt.scatter(pga['distance'],pga['accuracy'])\n",
    "plt.xlabel('normalized distance')\n",
    "plt.ylabel('normalized accuracy')\n",
    "plt.show()\n"
   ]
  },
  {
   "attachments": {},
   "cell_type": "markdown",
   "metadata": {},
   "source": [
    "损失函数\n"
   ]
  },
  {
   "cell_type": "code",
   "execution_count": 62,
   "metadata": {},
   "outputs": [
    {
     "name": "stdout",
     "output_type": "stream",
     "text": [
      "1.5994384225998166\n"
     ]
    }
   ],
   "source": [
    "\n",
    "#计算损失函数\n",
    "def cost(theta0, theta1, x, y):\n",
    "    # Initialize cost\n",
    "    J = 0\n",
    "    # The number of observations\n",
    "    m = len(x)\n",
    "    # Loop through each observation\n",
    "    for i in range(m):\n",
    "        # Compute the hypothesis \n",
    "        h = theta1 * x[i] + theta0\n",
    "        # Add to cost\n",
    "        J += (h - y[i])**2\n",
    "    # Average and normalize cost\n",
    "    J /= (2*m)\n",
    "    return J\n",
    "print(cost(0,1,pga.distance,pga.accuracy))"
   ]
  },
  {
   "cell_type": "code",
   "execution_count": 63,
   "metadata": {},
   "outputs": [
    {
     "name": "stdout",
     "output_type": "stream",
     "text": [
      "partial1= 7.21363183512792e-17\n"
     ]
    }
   ],
   "source": [
    "def partial_cost_theta0(theta0, theta1, x, y):\n",
    "    # Hypothesis\n",
    "    h = theta0 + theta1*x\n",
    "    # Difference between hypothesis and observation\n",
    "    diff = (h - y)\n",
    "    # Compute partial derivative\n",
    "    partial = diff.sum() / (x.shape[0])\n",
    "    return partial\n",
    "\n",
    "partial0 = partial_cost_theta0(1, 1, pga.distance, pga.accuracy)\n",
    "\n",
    "def partial_cost_theta1(theta0,theta1,x,y):\n",
    "    h = theta1*x + theta0\n",
    "    diff = (h-y)*x\n",
    "    partial = diff.sum()/(x.shape[0])\n",
    "    return partial\n",
    "partial1 = partial_cost_theta0(0, 5, pga.distance, pga.accuracy)\n",
    "print(\"partial1=\",partial1)"
   ]
  },
  {
   "cell_type": "code",
   "execution_count": 64,
   "metadata": {},
   "outputs": [
    {
     "name": "stdout",
     "output_type": "stream",
     "text": [
      "Theta1 = -0.6046983166379608\n"
     ]
    },
    {
     "data": {
      "image/png": "[encoded data removed]",
      "text/plain": [
       "<Figure size 432x288 with 1 Axes>"
      ]
     },
     "metadata": {},
     "output_type": "display_data"
    }
   ],
   "source": [
    "# x is our feature vector -- distance\n",
    "# y is our target variable -- accuracy\n",
    "# alpha is the learning rate\n",
    "# theta0 is the intial theta0 \n",
    "# theta1 is the intial theta1\n",
    "def gradient_descent(x, y, alpha=0.1, theta0=0, theta1=0):\n",
    "    max_epochs = 1000 # Maximum number of iterations\n",
    "    counter = 0      # Intialize a counter\n",
    "    c = cost(theta1, theta0, pga.distance, pga.accuracy)  ## Initial cost\n",
    "    costs = [c]     # Lets store each update\n",
    "    # Set a convergence threshold to find where the cost function in minimized\n",
    "    # When the difference between the previous cost and current cost \n",
    "    #        is less than this value we will say the parameters converged\n",
    "    convergence_thres = 0.000001  \n",
    "    cprev = c + 10   \n",
    "    theta0s = [theta0]\n",
    "    theta1s = [theta1]\n",
    "\n",
    "    # When the costs converge or we hit a large number of iterations will we stop updating\n",
    "    while (np.abs(cprev - c) > convergence_thres) and (counter < max_epochs):\n",
    "        cprev = c\n",
    "        # Alpha times the partial deriviative is our updated\n",
    "        update0 = alpha * partial_cost_theta0(theta0, theta1, x, y)\n",
    "        update1 = alpha * partial_cost_theta1(theta0, theta1, x, y)\n",
    "\n",
    "        # Update theta0 and theta1 at the same time\n",
    "        # We want to compute the slopes at the same set of hypothesised parameters\n",
    "        #             so we update after finding the partial derivatives\n",
    "        theta0 -= update0\n",
    "        theta1 -= update1\n",
    "\n",
    "        # Store thetas\n",
    "        theta0s.append(theta0)\n",
    "        theta1s.append(theta1)\n",
    "\n",
    "        # Compute the new cost\n",
    "        c = cost(theta0, theta1, pga.distance, pga.accuracy)\n",
    "\n",
    "        # Store updates\n",
    "        costs.append(c)\n",
    "        counter += 1   # Count\n",
    "\n",
    "    return {'theta0': theta0, 'theta1': theta1, \"costs\": costs}\n",
    "\n",
    "print(\"Theta1 =\", gradient_descent(pga.distance, pga.accuracy)['theta1'])\n",
    "descend = gradient_descent(pga.distance, pga.accuracy, alpha=.01)\n",
    "plt.scatter(range(len(descend[\"costs\"])), descend[\"costs\"])\n",
    "plt.show()\n"
   ]
  },
  {
   "cell_type": "code",
   "execution_count": null,
   "metadata": {},
   "outputs": [],
   "source": []
  }
 ],
 "metadata": {
  "kernelspec": {
   "display_name": "Python 3",
   "language": "python",
   "name": "python3"
  },
  "language_info": {
   "codemirror_mode": {
    "name": "ipython",
    "version": 3
   },
   "file_extension": ".py",
   "mimetype": "text/x-python",
   "name": "python",
   "nbconvert_exporter": "python",
   "pygments_lexer": "ipython3",
   "version": "3.6.5"
  }
 },
 "nbformat": 4,
 "nbformat_minor": 2
}
